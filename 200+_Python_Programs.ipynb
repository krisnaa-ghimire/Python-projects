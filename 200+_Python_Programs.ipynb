{
 "cells": [
  {
   "cell_type": "code",
   "execution_count": 3,
   "id": "777e34db-ad5e-4bf4-aaf8-66739652caa6",
   "metadata": {},
   "outputs": [
    {
     "name": "stdout",
     "output_type": "stream",
     "text": [
      "Hello World!\n"
     ]
    }
   ],
   "source": [
    "# Print Hello World!\n",
    "print('Hello World!')"
   ]
  },
  {
   "cell_type": "code",
   "execution_count": 15,
   "id": "fb2496ab-98f4-4dc3-bde1-c322ebdc60f6",
   "metadata": {},
   "outputs": [
    {
     "name": "stdin",
     "output_type": "stream",
     "text": [
      "Enter the first number:  45\n",
      "Enter the second number:  45\n"
     ]
    },
    {
     "name": "stdout",
     "output_type": "stream",
     "text": [
      "The sum of 45.0 and 45.0 is: 90.0\n"
     ]
    }
   ],
   "source": [
    "# Add two numbers\n",
    "import math\n",
    "num1 = float(input('Enter the first number: '))\n",
    "num2 = float(input('Enter the second number: '))\n",
    "if not(math.isnan(num1) and math.isnan(num2)):\n",
    "    sum = num1 + num2\n",
    "    print(f'The sum of {num1} and {num2} is: {sum}')\n",
    "else:\n",
    "    print('Please enter a valid number!')"
   ]
  },
  {
   "cell_type": "code",
   "execution_count": 43,
   "id": "ad3cae8c-4ad2-43ae-91e3-b3ac381c0366",
   "metadata": {},
   "outputs": [
    {
     "name": "stdin",
     "output_type": "stream",
     "text": [
      "Enter a non-negative number:  9\n"
     ]
    },
    {
     "name": "stdout",
     "output_type": "stream",
     "text": [
      "The square root of 9.0 is : 3.0\n"
     ]
    }
   ],
   "source": [
    "# Find the square root\n",
    "import math\n",
    "input_number = float(input('Enter a non-negative number: '))\n",
    "\n",
    "if not( input_number < 0):\n",
    "    square_root = math.sqrt(input_number)\n",
    "    print(f'The square root of {input_number} is : {square_root}')\n",
    "else:\n",
    "    print('Please enter a valid non-negative number')"
   ]
  },
  {
   "cell_type": "code",
   "execution_count": 46,
   "id": "fd55cdeb-1b82-458d-915d-5a63f81893f7",
   "metadata": {},
   "outputs": [
    {
     "name": "stdin",
     "output_type": "stream",
     "text": [
      "Enter base of a triangle:  4\n",
      "Enter height of a triangel:  4\n"
     ]
    },
    {
     "name": "stdout",
     "output_type": "stream",
     "text": [
      "The area of the Triangle with base 4.0 and height 4.0 is: 8.0\n"
     ]
    }
   ],
   "source": [
    "# Area of a Triangle\n",
    "base = float(input('Enter base of a triangle: '))\n",
    "height = float(input('Enter height of a triangel: '))\n",
    "\n",
    "if (base >= 0 and height >= 0):\n",
    "    area = 0.5 * base * height\n",
    "    print(f'The area of the Triangle with base {base} and height {height} is: {area}')\n",
    "else:\n",
    "    print('Please entr valid positive numbers for base and height')"
   ]
  },
  {
   "cell_type": "code",
   "execution_count": 48,
   "id": "aeac9d79-03e2-4c14-ad4b-641f76ddff94",
   "metadata": {},
   "outputs": [
    {
     "name": "stdin",
     "output_type": "stream",
     "text": [
      "Enter the first variable:  krishna\n",
      "Enter the second variable:  menuka\n"
     ]
    },
    {
     "name": "stdout",
     "output_type": "stream",
     "text": [
      "Before swapping variable1 = krishna, variable2 = menuka\n",
      "After swapping variable1 = menuka, variable2 = krishna\n"
     ]
    }
   ],
   "source": [
    "# Swap two variables\n",
    "var1 = input('Enter the first variable: ')\n",
    "var2 = input('Enter the second variable: ')\n",
    "print(f'Before swapping variable1 = {var1}, variable2 = {var2}')\n",
    "temp_var = var1\n",
    "var1 = var2\n",
    "var2 = temp_var\n",
    "print(f'After swapping variable1 = {var1}, variable2 = {var2}')"
   ]
  },
  {
   "cell_type": "code",
   "execution_count": 51,
   "id": "8f419f32-f718-4609-97b4-248fb956d1d0",
   "metadata": {},
   "outputs": [
    {
     "name": "stdin",
     "output_type": "stream",
     "text": [
      "Enter the coefficient a:  2\n",
      "Enter the coefficient b:  5\n",
      "Enter the coefficient c:  2\n"
     ]
    },
    {
     "name": "stdout",
     "output_type": "stream",
     "text": [
      "The roots of the quadratic equation are -0.5 and -2.0\n"
     ]
    }
   ],
   "source": [
    "# Solve quadratic equation\n",
    "a = float(input('Enter the coefficient a: '))\n",
    "b = float(input('Enter the coefficient b: '))\n",
    "c = float(input('Enter the coefficient c: '))\n",
    "discriminant = b**2 - 4*a*c\n",
    "if discriminant > 0:\n",
    "    root1 = (-b + math.sqrt(discriminant)) / (2*a)\n",
    "    root2 = (-b - math.sqrt(discriminant)) / (2*a)\n",
    "    print(f'The roots of the quadratic equation are {root1} and {root2}')\n",
    "elif discriminant == 0:\n",
    "    root = -b / (2*a)\n",
    "    print(f'The root of the quadratic equation is {root}')\n",
    "else:\n",
    "    print('The quadratic equation has complex roots')\n",
    "\n"
   ]
  },
  {
   "cell_type": "code",
   "execution_count": 53,
   "id": "08dc29df-f285-40e5-9de4-b45fa2cd9ec6",
   "metadata": {},
   "outputs": [
    {
     "name": "stdin",
     "output_type": "stream",
     "text": [
      "Enter the distance in kilometers:  7\n"
     ]
    },
    {
     "name": "stdout",
     "output_type": "stream",
     "text": [
      "7.0 kilometers is approximately 4.349597 miles.\n"
     ]
    }
   ],
   "source": [
    "# Convert kilometrs to milesa\n",
    "kilometers = float(input('Enter the distance in kilometers: '))\n",
    "kilo_to_miles_factor = 0.621371\n",
    "if kilometers > 0:\n",
    "    miles = kilo_to_miles_factor * kilometers\n",
    "    print(f'{kilometers} kilometers is approximately {miles} miles.')\n",
    "else:\n",
    "    print('Enter a valid number for the distance in kilometers')"
   ]
  },
  {
   "cell_type": "code",
   "execution_count": 59,
   "id": "c0b1edc1-2eca-4277-a924-31aae56f945b",
   "metadata": {},
   "outputs": [
    {
     "name": "stdin",
     "output_type": "stream",
     "text": [
      "Enter a number:  101\n"
     ]
    },
    {
     "name": "stdout",
     "output_type": "stream",
     "text": [
      "101 is a prime number.\n"
     ]
    }
   ],
   "source": [
    "number = int(input('Enter a number: '))\n",
    "is_prime = True  # Define is_prime before the if block\n",
    "\n",
    "if number > 1:\n",
    "    for i in range(2, int(number**0.5) + 1):\n",
    "        if number % i == 0:\n",
    "            is_prime = False\n",
    "            break\n",
    "\n",
    "if is_prime:\n",
    "    print(f'{number} is a prime number.')\n",
    "else:\n",
    "    print(f'{number} is not a prime number.')\n"
   ]
  },
  {
   "cell_type": "code",
   "execution_count": null,
   "id": "d3a4ffc2-3d4d-4cf4-ade5-a23fafa45790",
   "metadata": {},
   "outputs": [],
   "source": []
  }
 ],
 "metadata": {
  "kernelspec": {
   "display_name": "Python 3 (ipykernel)",
   "language": "python",
   "name": "python3"
  },
  "language_info": {
   "codemirror_mode": {
    "name": "ipython",
    "version": 3
   },
   "file_extension": ".py",
   "mimetype": "text/x-python",
   "name": "python",
   "nbconvert_exporter": "python",
   "pygments_lexer": "ipython3",
   "version": "3.12.1"
  }
 },
 "nbformat": 4,
 "nbformat_minor": 5
}
